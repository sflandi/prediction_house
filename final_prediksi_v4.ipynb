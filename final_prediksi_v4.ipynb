{
  "nbformat": 4,
  "nbformat_minor": 0,
  "metadata": {
    "colab": {
      "name": "final_prediksi_v4.ipynb",
      "provenance": [],
      "collapsed_sections": []
    },
    "kernelspec": {
      "display_name": "Python 3",
      "name": "python3"
    }
  },
  "cells": [
    {
      "cell_type": "code",
      "metadata": {
        "id": "UrJA_UXsZBji"
      },
      "source": [
        "import numpy as np\n",
        "import pandas as pd\n",
        "import matplotlib.pyplot as plt\n",
        "import seaborn as sns\n",
        "import mpl_toolkits\n",
        "%matplotlib inline"
      ],
      "execution_count": null,
      "outputs": []
    },
    {
      "cell_type": "code",
      "metadata": {
        "colab": {
          "base_uri": "https://localhost:8080/"
        },
        "id": "lmUUXKtPZEB6",
        "outputId": "d2d4f7c0-d2b8-40c8-eeb0-c94a260e9270"
      },
      "source": [
        "from google.colab import drive\n",
        "drive.mount('/content/drive')"
      ],
      "execution_count": null,
      "outputs": [
        {
          "output_type": "stream",
          "text": [
            "Drive already mounted at /content/drive; to attempt to forcibly remount, call drive.mount(\"/content/drive\", force_remount=True).\n"
          ],
          "name": "stdout"
        }
      ]
    },
    {
      "cell_type": "code",
      "metadata": {
        "id": "gzF0dUiXZWfi"
      },
      "source": [
        "path = '/content/drive/My Drive/LatihanColab/predictionPricingHouse/all_house_dataset_29112020.csv'\n",
        "data = pd.read_csv(path , usecols=['name','surfaceArea', 'buildingArea', 'bedroom', 'bathroom', 'carParking', 'price','district'])"
      ],
      "execution_count": null,
      "outputs": []
    },
    {
      "cell_type": "code",
      "metadata": {
        "id": "UvYzIj9jzUFa"
      },
      "source": [
        "data.columns =['nama_rumah', 'luas_lahan',\t'luas_bangunan',\t'kmr_tidur',\t'kmr_mandi',\t'tmp_parkir',\t'harga', 'district'] "
      ],
      "execution_count": null,
      "outputs": []
    },
    {
      "cell_type": "code",
      "metadata": {
        "id": "qZX_J3UgZGjN"
      },
      "source": [
        "# data.head()"
      ],
      "execution_count": null,
      "outputs": []
    },
    {
      "cell_type": "code",
      "metadata": {
        "colab": {
          "base_uri": "https://localhost:8080/"
        },
        "id": "OGhcmvIpbfp_",
        "outputId": "75e7e986-9662-4939-de5b-21b7deab0e03"
      },
      "source": [
        "print(data)"
      ],
      "execution_count": null,
      "outputs": [
        {
          "output_type": "stream",
          "text": [
            "                                             nama_rumah  ...                                           district\n",
            "0     Perumahan Surya asri Citayam dekat dengan fasi...  ...      Jl. Pandawa Raya, Ragajaya Bojong Gede, Bogor\n",
            "1                           Dijual rumah beserta isinya  ...  Jl. Raya Kemuning no. 4 Tonjong Raya, Bojong G...\n",
            "2     Cluster Murah Bebas Biaya - Biaya Akses Dekat ...  ...                                 Bojong Gede, Bogor\n",
            "3                                     Zahra Townhouse 3  ...  Perumahan Bilabong Desa Cimanggis Kecamatan Bo...\n",
            "4     Ramai huni! Diskon 30 JUTA! Plus Diskon DP 15 ...  ...      jl. kemuning II bojonggede Bojong Gede, Bogor\n",
            "...                                                 ...  ...                                                ...\n",
            "7350  PROMO DP 10 JT TIDAK DIKENAKAN BIAYA LAGI RUMA...  ...                                 Depok, Bojong Gede\n",
            "7351  Rumah di Bojong Gede dekat stasiun kereta, Boj...  ...                                 Depok, Bojong Gede\n",
            "7352  Dipasarkan @Bojong Depok LT 82 LB 130 Siap Hun...  ...                                 Depok, Bojong Gede\n",
            "7353  PROMO DP 10 JT TIDAK DIKENAKAN BIAYA LAGI RUMA...  ...                                 Depok, Bojong Gede\n",
            "7354  Rumah baru bagus furnished bisa KPR, Bojong Ge...  ...                                 Depok, Bojong Gede\n",
            "\n",
            "[7355 rows x 8 columns]\n"
          ],
          "name": "stdout"
        }
      ]
    },
    {
      "cell_type": "code",
      "metadata": {
        "id": "g2G_4wsk59pP"
      },
      "source": [
        "data.drop_duplicates(subset=['nama_rumah', 'luas_lahan',\t'luas_bangunan',\t'kmr_tidur',\t'kmr_mandi',\t'tmp_parkir',\t'harga', 'district'] , inplace=True)"
      ],
      "execution_count": null,
      "outputs": []
    },
    {
      "cell_type": "code",
      "metadata": {
        "colab": {
          "base_uri": "https://localhost:8080/",
          "height": 419
        },
        "id": "MN-3jriNQkqi",
        "outputId": "3e13d093-9f28-494d-c4c1-43a06d3f9517"
      },
      "source": [
        "data_ = data.drop(columns=['district','nama_rumah'], axis=1)\n",
        "data_"
      ],
      "execution_count": null,
      "outputs": [
        {
          "output_type": "execute_result",
          "data": {
            "text/html": [
              "<div>\n",
              "<style scoped>\n",
              "    .dataframe tbody tr th:only-of-type {\n",
              "        vertical-align: middle;\n",
              "    }\n",
              "\n",
              "    .dataframe tbody tr th {\n",
              "        vertical-align: top;\n",
              "    }\n",
              "\n",
              "    .dataframe thead th {\n",
              "        text-align: right;\n",
              "    }\n",
              "</style>\n",
              "<table border=\"1\" class=\"dataframe\">\n",
              "  <thead>\n",
              "    <tr style=\"text-align: right;\">\n",
              "      <th></th>\n",
              "      <th>luas_lahan</th>\n",
              "      <th>luas_bangunan</th>\n",
              "      <th>kmr_tidur</th>\n",
              "      <th>kmr_mandi</th>\n",
              "      <th>tmp_parkir</th>\n",
              "      <th>harga</th>\n",
              "    </tr>\n",
              "  </thead>\n",
              "  <tbody>\n",
              "    <tr>\n",
              "      <th>0</th>\n",
              "      <td>60</td>\n",
              "      <td>36</td>\n",
              "      <td>2</td>\n",
              "      <td>1</td>\n",
              "      <td>0</td>\n",
              "      <td>335000</td>\n",
              "    </tr>\n",
              "    <tr>\n",
              "      <th>1</th>\n",
              "      <td>110</td>\n",
              "      <td>45</td>\n",
              "      <td>2</td>\n",
              "      <td>1</td>\n",
              "      <td>0</td>\n",
              "      <td>595000</td>\n",
              "    </tr>\n",
              "    <tr>\n",
              "      <th>2</th>\n",
              "      <td>73</td>\n",
              "      <td>45</td>\n",
              "      <td>2</td>\n",
              "      <td>1</td>\n",
              "      <td>0</td>\n",
              "      <td>425000</td>\n",
              "    </tr>\n",
              "    <tr>\n",
              "      <th>3</th>\n",
              "      <td>63</td>\n",
              "      <td>36</td>\n",
              "      <td>2</td>\n",
              "      <td>1</td>\n",
              "      <td>0</td>\n",
              "      <td>346500</td>\n",
              "    </tr>\n",
              "    <tr>\n",
              "      <th>4</th>\n",
              "      <td>66</td>\n",
              "      <td>36</td>\n",
              "      <td>2</td>\n",
              "      <td>1</td>\n",
              "      <td>0</td>\n",
              "      <td>418800</td>\n",
              "    </tr>\n",
              "    <tr>\n",
              "      <th>...</th>\n",
              "      <td>...</td>\n",
              "      <td>...</td>\n",
              "      <td>...</td>\n",
              "      <td>...</td>\n",
              "      <td>...</td>\n",
              "      <td>...</td>\n",
              "    </tr>\n",
              "    <tr>\n",
              "      <th>7040</th>\n",
              "      <td>75</td>\n",
              "      <td>45</td>\n",
              "      <td>2</td>\n",
              "      <td>1</td>\n",
              "      <td>0</td>\n",
              "      <td>360000</td>\n",
              "    </tr>\n",
              "    <tr>\n",
              "      <th>7060</th>\n",
              "      <td>80</td>\n",
              "      <td>36</td>\n",
              "      <td>2</td>\n",
              "      <td>1</td>\n",
              "      <td>0</td>\n",
              "      <td>80000</td>\n",
              "    </tr>\n",
              "    <tr>\n",
              "      <th>7197</th>\n",
              "      <td>75</td>\n",
              "      <td>45</td>\n",
              "      <td>2</td>\n",
              "      <td>1</td>\n",
              "      <td>0</td>\n",
              "      <td>360000</td>\n",
              "    </tr>\n",
              "    <tr>\n",
              "      <th>7198</th>\n",
              "      <td>78</td>\n",
              "      <td>36</td>\n",
              "      <td>2</td>\n",
              "      <td>1</td>\n",
              "      <td>0</td>\n",
              "      <td>55000</td>\n",
              "    </tr>\n",
              "    <tr>\n",
              "      <th>7199</th>\n",
              "      <td>60</td>\n",
              "      <td>30</td>\n",
              "      <td>2</td>\n",
              "      <td>1</td>\n",
              "      <td>0</td>\n",
              "      <td>55000</td>\n",
              "    </tr>\n",
              "  </tbody>\n",
              "</table>\n",
              "<p>794 rows × 6 columns</p>\n",
              "</div>"
            ],
            "text/plain": [
              "      luas_lahan  luas_bangunan  kmr_tidur  kmr_mandi  tmp_parkir   harga\n",
              "0             60             36          2          1           0  335000\n",
              "1            110             45          2          1           0  595000\n",
              "2             73             45          2          1           0  425000\n",
              "3             63             36          2          1           0  346500\n",
              "4             66             36          2          1           0  418800\n",
              "...          ...            ...        ...        ...         ...     ...\n",
              "7040          75             45          2          1           0  360000\n",
              "7060          80             36          2          1           0   80000\n",
              "7197          75             45          2          1           0  360000\n",
              "7198          78             36          2          1           0   55000\n",
              "7199          60             30          2          1           0   55000\n",
              "\n",
              "[794 rows x 6 columns]"
            ]
          },
          "metadata": {
            "tags": []
          },
          "execution_count": 8
        }
      ]
    },
    {
      "cell_type": "code",
      "metadata": {
        "id": "dEwufN9gaaYC",
        "colab": {
          "base_uri": "https://localhost:8080/",
          "height": 297
        },
        "outputId": "2bd1569d-6969-4657-a519-f64f00726b48"
      },
      "source": [
        "data.describe()"
      ],
      "execution_count": null,
      "outputs": [
        {
          "output_type": "execute_result",
          "data": {
            "text/html": [
              "<div>\n",
              "<style scoped>\n",
              "    .dataframe tbody tr th:only-of-type {\n",
              "        vertical-align: middle;\n",
              "    }\n",
              "\n",
              "    .dataframe tbody tr th {\n",
              "        vertical-align: top;\n",
              "    }\n",
              "\n",
              "    .dataframe thead th {\n",
              "        text-align: right;\n",
              "    }\n",
              "</style>\n",
              "<table border=\"1\" class=\"dataframe\">\n",
              "  <thead>\n",
              "    <tr style=\"text-align: right;\">\n",
              "      <th></th>\n",
              "      <th>luas_lahan</th>\n",
              "      <th>luas_bangunan</th>\n",
              "      <th>kmr_tidur</th>\n",
              "      <th>kmr_mandi</th>\n",
              "      <th>tmp_parkir</th>\n",
              "      <th>harga</th>\n",
              "    </tr>\n",
              "  </thead>\n",
              "  <tbody>\n",
              "    <tr>\n",
              "      <th>count</th>\n",
              "      <td>794.000000</td>\n",
              "      <td>794.000000</td>\n",
              "      <td>794.000000</td>\n",
              "      <td>794.000000</td>\n",
              "      <td>794.000000</td>\n",
              "      <td>7.940000e+02</td>\n",
              "    </tr>\n",
              "    <tr>\n",
              "      <th>mean</th>\n",
              "      <td>92.206549</td>\n",
              "      <td>54.899244</td>\n",
              "      <td>2.132242</td>\n",
              "      <td>1.154912</td>\n",
              "      <td>0.059194</td>\n",
              "      <td>4.350656e+05</td>\n",
              "    </tr>\n",
              "    <tr>\n",
              "      <th>std</th>\n",
              "      <td>164.524130</td>\n",
              "      <td>57.934867</td>\n",
              "      <td>0.648127</td>\n",
              "      <td>0.540825</td>\n",
              "      <td>0.241417</td>\n",
              "      <td>5.727996e+05</td>\n",
              "    </tr>\n",
              "    <tr>\n",
              "      <th>min</th>\n",
              "      <td>24.000000</td>\n",
              "      <td>12.000000</td>\n",
              "      <td>0.000000</td>\n",
              "      <td>0.000000</td>\n",
              "      <td>0.000000</td>\n",
              "      <td>0.000000e+00</td>\n",
              "    </tr>\n",
              "    <tr>\n",
              "      <th>25%</th>\n",
              "      <td>60.000000</td>\n",
              "      <td>36.000000</td>\n",
              "      <td>2.000000</td>\n",
              "      <td>1.000000</td>\n",
              "      <td>0.000000</td>\n",
              "      <td>2.800000e+05</td>\n",
              "    </tr>\n",
              "    <tr>\n",
              "      <th>50%</th>\n",
              "      <td>70.000000</td>\n",
              "      <td>40.000000</td>\n",
              "      <td>2.000000</td>\n",
              "      <td>1.000000</td>\n",
              "      <td>0.000000</td>\n",
              "      <td>3.640000e+05</td>\n",
              "    </tr>\n",
              "    <tr>\n",
              "      <th>75%</th>\n",
              "      <td>84.000000</td>\n",
              "      <td>50.000000</td>\n",
              "      <td>2.000000</td>\n",
              "      <td>1.000000</td>\n",
              "      <td>0.000000</td>\n",
              "      <td>4.500000e+05</td>\n",
              "    </tr>\n",
              "    <tr>\n",
              "      <th>max</th>\n",
              "      <td>2787.000000</td>\n",
              "      <td>850.000000</td>\n",
              "      <td>8.000000</td>\n",
              "      <td>5.000000</td>\n",
              "      <td>2.000000</td>\n",
              "      <td>9.500000e+06</td>\n",
              "    </tr>\n",
              "  </tbody>\n",
              "</table>\n",
              "</div>"
            ],
            "text/plain": [
              "        luas_lahan  luas_bangunan  ...  tmp_parkir         harga\n",
              "count   794.000000     794.000000  ...  794.000000  7.940000e+02\n",
              "mean     92.206549      54.899244  ...    0.059194  4.350656e+05\n",
              "std     164.524130      57.934867  ...    0.241417  5.727996e+05\n",
              "min      24.000000      12.000000  ...    0.000000  0.000000e+00\n",
              "25%      60.000000      36.000000  ...    0.000000  2.800000e+05\n",
              "50%      70.000000      40.000000  ...    0.000000  3.640000e+05\n",
              "75%      84.000000      50.000000  ...    0.000000  4.500000e+05\n",
              "max    2787.000000     850.000000  ...    2.000000  9.500000e+06\n",
              "\n",
              "[8 rows x 6 columns]"
            ]
          },
          "metadata": {
            "tags": []
          },
          "execution_count": 9
        }
      ]
    },
    {
      "cell_type": "markdown",
      "metadata": {
        "id": "Lj3JPLiXe0tv"
      },
      "source": [
        "TAHAP MELAKUKAN CLEANING DATA\n",
        "\n",
        "---\n",
        "\n"
      ]
    },
    {
      "cell_type": "markdown",
      "metadata": {
        "id": "77IH91klfN6o"
      },
      "source": [
        "mencari data dengan value null\n",
        "\n",
        "---\n",
        "\n"
      ]
    },
    {
      "cell_type": "code",
      "metadata": {
        "id": "7REEQfIyblT6",
        "colab": {
          "base_uri": "https://localhost:8080/"
        },
        "outputId": "06e6947a-bd1d-4c9d-b9a0-0df4bd14ef9b"
      },
      "source": [
        "data.isnull().sum()"
      ],
      "execution_count": null,
      "outputs": [
        {
          "output_type": "execute_result",
          "data": {
            "text/plain": [
              "nama_rumah       0\n",
              "luas_lahan       0\n",
              "luas_bangunan    0\n",
              "kmr_tidur        0\n",
              "kmr_mandi        0\n",
              "tmp_parkir       0\n",
              "harga            0\n",
              "district         0\n",
              "dtype: int64"
            ]
          },
          "metadata": {
            "tags": []
          },
          "execution_count": 10
        }
      ]
    },
    {
      "cell_type": "code",
      "metadata": {
        "id": "8KWHGOzpblxS"
      },
      "source": [
        "# data = data.fillna(0)\n",
        "# data.isnull().sum()"
      ],
      "execution_count": null,
      "outputs": []
    },
    {
      "cell_type": "markdown",
      "metadata": {
        "id": "ibTNU5t6fU1b"
      },
      "source": [
        "memperbaiki data kamar tidur dan kamar mandi jika = 0 maka jadi\n",
        "\n",
        "---\n",
        "\n"
      ]
    },
    {
      "cell_type": "code",
      "metadata": {
        "id": "lp6it2zM_s-H"
      },
      "source": [
        "data['kmr_tidur']=data['kmr_tidur'].replace(0, 1)\n",
        "data['kmr_mandi']=data['kmr_mandi'].replace(0, 1)"
      ],
      "execution_count": null,
      "outputs": []
    },
    {
      "cell_type": "code",
      "metadata": {
        "id": "b7Y7qscSAHw2",
        "colab": {
          "base_uri": "https://localhost:8080/"
        },
        "outputId": "9c9fe2e9-1d86-4156-b099-9f7ed5fd81ce"
      },
      "source": [
        "data['harga'].describe()"
      ],
      "execution_count": null,
      "outputs": [
        {
          "output_type": "execute_result",
          "data": {
            "text/plain": [
              "count    7.940000e+02\n",
              "mean     4.350656e+05\n",
              "std      5.727996e+05\n",
              "min      0.000000e+00\n",
              "25%      2.800000e+05\n",
              "50%      3.640000e+05\n",
              "75%      4.500000e+05\n",
              "max      9.500000e+06\n",
              "Name: harga, dtype: float64"
            ]
          },
          "metadata": {
            "tags": []
          },
          "execution_count": 13
        }
      ]
    },
    {
      "cell_type": "markdown",
      "metadata": {
        "id": "SGnxrEo2fmXb"
      },
      "source": [
        "menghapus baris data jika harga = 0\n",
        "\n",
        "---\n",
        "\n"
      ]
    },
    {
      "cell_type": "code",
      "metadata": {
        "id": "LMgFrQKCerPA",
        "colab": {
          "base_uri": "https://localhost:8080/",
          "height": 487
        },
        "outputId": "248e58fe-9854-401a-8e18-da098acc403b"
      },
      "source": [
        "data.drop(data.index[data['harga'] == 0], inplace = True)\n",
        "data"
      ],
      "execution_count": null,
      "outputs": [
        {
          "output_type": "execute_result",
          "data": {
            "text/html": [
              "<div>\n",
              "<style scoped>\n",
              "    .dataframe tbody tr th:only-of-type {\n",
              "        vertical-align: middle;\n",
              "    }\n",
              "\n",
              "    .dataframe tbody tr th {\n",
              "        vertical-align: top;\n",
              "    }\n",
              "\n",
              "    .dataframe thead th {\n",
              "        text-align: right;\n",
              "    }\n",
              "</style>\n",
              "<table border=\"1\" class=\"dataframe\">\n",
              "  <thead>\n",
              "    <tr style=\"text-align: right;\">\n",
              "      <th></th>\n",
              "      <th>nama_rumah</th>\n",
              "      <th>luas_lahan</th>\n",
              "      <th>luas_bangunan</th>\n",
              "      <th>kmr_tidur</th>\n",
              "      <th>kmr_mandi</th>\n",
              "      <th>tmp_parkir</th>\n",
              "      <th>harga</th>\n",
              "      <th>district</th>\n",
              "    </tr>\n",
              "  </thead>\n",
              "  <tbody>\n",
              "    <tr>\n",
              "      <th>0</th>\n",
              "      <td>Perumahan Surya asri Citayam dekat dengan fasi...</td>\n",
              "      <td>60</td>\n",
              "      <td>36</td>\n",
              "      <td>2</td>\n",
              "      <td>1</td>\n",
              "      <td>0</td>\n",
              "      <td>335000</td>\n",
              "      <td>Jl. Pandawa Raya, Ragajaya Bojong Gede, Bogor</td>\n",
              "    </tr>\n",
              "    <tr>\n",
              "      <th>1</th>\n",
              "      <td>Dijual rumah beserta isinya</td>\n",
              "      <td>110</td>\n",
              "      <td>45</td>\n",
              "      <td>2</td>\n",
              "      <td>1</td>\n",
              "      <td>0</td>\n",
              "      <td>595000</td>\n",
              "      <td>Jl. Raya Kemuning no. 4 Tonjong Raya, Bojong G...</td>\n",
              "    </tr>\n",
              "    <tr>\n",
              "      <th>2</th>\n",
              "      <td>Cluster Murah Bebas Biaya - Biaya Akses Dekat ...</td>\n",
              "      <td>73</td>\n",
              "      <td>45</td>\n",
              "      <td>2</td>\n",
              "      <td>1</td>\n",
              "      <td>0</td>\n",
              "      <td>425000</td>\n",
              "      <td>Bojong Gede, Bogor</td>\n",
              "    </tr>\n",
              "    <tr>\n",
              "      <th>3</th>\n",
              "      <td>Zahra Townhouse 3</td>\n",
              "      <td>63</td>\n",
              "      <td>36</td>\n",
              "      <td>2</td>\n",
              "      <td>1</td>\n",
              "      <td>0</td>\n",
              "      <td>346500</td>\n",
              "      <td>Perumahan Bilabong Desa Cimanggis Kecamatan Bo...</td>\n",
              "    </tr>\n",
              "    <tr>\n",
              "      <th>4</th>\n",
              "      <td>Ramai huni! Diskon 30 JUTA! Plus Diskon DP 15 ...</td>\n",
              "      <td>66</td>\n",
              "      <td>36</td>\n",
              "      <td>2</td>\n",
              "      <td>1</td>\n",
              "      <td>0</td>\n",
              "      <td>418800</td>\n",
              "      <td>jl. kemuning II bojonggede Bojong Gede, Bogor</td>\n",
              "    </tr>\n",
              "    <tr>\n",
              "      <th>...</th>\n",
              "      <td>...</td>\n",
              "      <td>...</td>\n",
              "      <td>...</td>\n",
              "      <td>...</td>\n",
              "      <td>...</td>\n",
              "      <td>...</td>\n",
              "      <td>...</td>\n",
              "      <td>...</td>\n",
              "    </tr>\n",
              "    <tr>\n",
              "      <th>7040</th>\n",
              "      <td>rumah mewah lokasi 5 menit kestasiun bojongged...</td>\n",
              "      <td>75</td>\n",
              "      <td>45</td>\n",
              "      <td>2</td>\n",
              "      <td>1</td>\n",
              "      <td>0</td>\n",
              "      <td>360000</td>\n",
              "      <td>Depok, Bojong Gede</td>\n",
              "    </tr>\n",
              "    <tr>\n",
              "      <th>7060</th>\n",
              "      <td>Rumah Take Over Bojong Gede, Bojong Gede, Depok</td>\n",
              "      <td>80</td>\n",
              "      <td>36</td>\n",
              "      <td>2</td>\n",
              "      <td>1</td>\n",
              "      <td>0</td>\n",
              "      <td>80000</td>\n",
              "      <td>Depok, Bojong Gede</td>\n",
              "    </tr>\n",
              "    <tr>\n",
              "      <th>7197</th>\n",
              "      <td>rumah di citayam, harga promo free kanopi ming...</td>\n",
              "      <td>75</td>\n",
              "      <td>45</td>\n",
              "      <td>2</td>\n",
              "      <td>1</td>\n",
              "      <td>0</td>\n",
              "      <td>360000</td>\n",
              "      <td>Depok, Bojong Gede</td>\n",
              "    </tr>\n",
              "    <tr>\n",
              "      <th>7198</th>\n",
              "      <td>Rumah Take Over Kemuning, Bojong Gede, Depok</td>\n",
              "      <td>78</td>\n",
              "      <td>36</td>\n",
              "      <td>2</td>\n",
              "      <td>1</td>\n",
              "      <td>0</td>\n",
              "      <td>55000</td>\n",
              "      <td>Depok, Bojong Gede</td>\n",
              "    </tr>\n",
              "    <tr>\n",
              "      <th>7199</th>\n",
              "      <td>Rumah Take Over Kemuning Bojong Gede, Bojong G...</td>\n",
              "      <td>60</td>\n",
              "      <td>30</td>\n",
              "      <td>2</td>\n",
              "      <td>1</td>\n",
              "      <td>0</td>\n",
              "      <td>55000</td>\n",
              "      <td>Depok, Bojong Gede</td>\n",
              "    </tr>\n",
              "  </tbody>\n",
              "</table>\n",
              "<p>782 rows × 8 columns</p>\n",
              "</div>"
            ],
            "text/plain": [
              "                                             nama_rumah  ...                                           district\n",
              "0     Perumahan Surya asri Citayam dekat dengan fasi...  ...      Jl. Pandawa Raya, Ragajaya Bojong Gede, Bogor\n",
              "1                           Dijual rumah beserta isinya  ...  Jl. Raya Kemuning no. 4 Tonjong Raya, Bojong G...\n",
              "2     Cluster Murah Bebas Biaya - Biaya Akses Dekat ...  ...                                 Bojong Gede, Bogor\n",
              "3                                     Zahra Townhouse 3  ...  Perumahan Bilabong Desa Cimanggis Kecamatan Bo...\n",
              "4     Ramai huni! Diskon 30 JUTA! Plus Diskon DP 15 ...  ...      jl. kemuning II bojonggede Bojong Gede, Bogor\n",
              "...                                                 ...  ...                                                ...\n",
              "7040  rumah mewah lokasi 5 menit kestasiun bojongged...  ...                                 Depok, Bojong Gede\n",
              "7060    Rumah Take Over Bojong Gede, Bojong Gede, Depok  ...                                 Depok, Bojong Gede\n",
              "7197  rumah di citayam, harga promo free kanopi ming...  ...                                 Depok, Bojong Gede\n",
              "7198       Rumah Take Over Kemuning, Bojong Gede, Depok  ...                                 Depok, Bojong Gede\n",
              "7199  Rumah Take Over Kemuning Bojong Gede, Bojong G...  ...                                 Depok, Bojong Gede\n",
              "\n",
              "[782 rows x 8 columns]"
            ]
          },
          "metadata": {
            "tags": []
          },
          "execution_count": 14
        }
      ]
    },
    {
      "cell_type": "code",
      "metadata": {
        "colab": {
          "base_uri": "https://localhost:8080/"
        },
        "id": "AP4AcHTpZvv8",
        "outputId": "9cff557b-fdb7-4df6-bc30-19c140b98af5"
      },
      "source": [
        "data['harga'].describe()"
      ],
      "execution_count": null,
      "outputs": [
        {
          "output_type": "execute_result",
          "data": {
            "text/plain": [
              "count    7.820000e+02\n",
              "mean     4.417418e+05\n",
              "std      5.746196e+05\n",
              "min      5.000000e+04\n",
              "25%      2.879000e+05\n",
              "50%      3.650000e+05\n",
              "75%      4.500000e+05\n",
              "max      9.500000e+06\n",
              "Name: harga, dtype: float64"
            ]
          },
          "metadata": {
            "tags": []
          },
          "execution_count": 15
        }
      ]
    },
    {
      "cell_type": "code",
      "metadata": {
        "id": "5hNToKg5Zjeu",
        "colab": {
          "base_uri": "https://localhost:8080/",
          "height": 487
        },
        "outputId": "bca4df63-663a-42ff-e609-5f0ab82acbdc"
      },
      "source": [
        "data.drop(data.index[data['luas_lahan'] < data['luas_bangunan']], inplace = True)\n",
        "data"
      ],
      "execution_count": null,
      "outputs": [
        {
          "output_type": "execute_result",
          "data": {
            "text/html": [
              "<div>\n",
              "<style scoped>\n",
              "    .dataframe tbody tr th:only-of-type {\n",
              "        vertical-align: middle;\n",
              "    }\n",
              "\n",
              "    .dataframe tbody tr th {\n",
              "        vertical-align: top;\n",
              "    }\n",
              "\n",
              "    .dataframe thead th {\n",
              "        text-align: right;\n",
              "    }\n",
              "</style>\n",
              "<table border=\"1\" class=\"dataframe\">\n",
              "  <thead>\n",
              "    <tr style=\"text-align: right;\">\n",
              "      <th></th>\n",
              "      <th>nama_rumah</th>\n",
              "      <th>luas_lahan</th>\n",
              "      <th>luas_bangunan</th>\n",
              "      <th>kmr_tidur</th>\n",
              "      <th>kmr_mandi</th>\n",
              "      <th>tmp_parkir</th>\n",
              "      <th>harga</th>\n",
              "      <th>district</th>\n",
              "    </tr>\n",
              "  </thead>\n",
              "  <tbody>\n",
              "    <tr>\n",
              "      <th>0</th>\n",
              "      <td>Perumahan Surya asri Citayam dekat dengan fasi...</td>\n",
              "      <td>60</td>\n",
              "      <td>36</td>\n",
              "      <td>2</td>\n",
              "      <td>1</td>\n",
              "      <td>0</td>\n",
              "      <td>335000</td>\n",
              "      <td>Jl. Pandawa Raya, Ragajaya Bojong Gede, Bogor</td>\n",
              "    </tr>\n",
              "    <tr>\n",
              "      <th>1</th>\n",
              "      <td>Dijual rumah beserta isinya</td>\n",
              "      <td>110</td>\n",
              "      <td>45</td>\n",
              "      <td>2</td>\n",
              "      <td>1</td>\n",
              "      <td>0</td>\n",
              "      <td>595000</td>\n",
              "      <td>Jl. Raya Kemuning no. 4 Tonjong Raya, Bojong G...</td>\n",
              "    </tr>\n",
              "    <tr>\n",
              "      <th>2</th>\n",
              "      <td>Cluster Murah Bebas Biaya - Biaya Akses Dekat ...</td>\n",
              "      <td>73</td>\n",
              "      <td>45</td>\n",
              "      <td>2</td>\n",
              "      <td>1</td>\n",
              "      <td>0</td>\n",
              "      <td>425000</td>\n",
              "      <td>Bojong Gede, Bogor</td>\n",
              "    </tr>\n",
              "    <tr>\n",
              "      <th>3</th>\n",
              "      <td>Zahra Townhouse 3</td>\n",
              "      <td>63</td>\n",
              "      <td>36</td>\n",
              "      <td>2</td>\n",
              "      <td>1</td>\n",
              "      <td>0</td>\n",
              "      <td>346500</td>\n",
              "      <td>Perumahan Bilabong Desa Cimanggis Kecamatan Bo...</td>\n",
              "    </tr>\n",
              "    <tr>\n",
              "      <th>4</th>\n",
              "      <td>Ramai huni! Diskon 30 JUTA! Plus Diskon DP 15 ...</td>\n",
              "      <td>66</td>\n",
              "      <td>36</td>\n",
              "      <td>2</td>\n",
              "      <td>1</td>\n",
              "      <td>0</td>\n",
              "      <td>418800</td>\n",
              "      <td>jl. kemuning II bojonggede Bojong Gede, Bogor</td>\n",
              "    </tr>\n",
              "    <tr>\n",
              "      <th>...</th>\n",
              "      <td>...</td>\n",
              "      <td>...</td>\n",
              "      <td>...</td>\n",
              "      <td>...</td>\n",
              "      <td>...</td>\n",
              "      <td>...</td>\n",
              "      <td>...</td>\n",
              "      <td>...</td>\n",
              "    </tr>\n",
              "    <tr>\n",
              "      <th>7040</th>\n",
              "      <td>rumah mewah lokasi 5 menit kestasiun bojongged...</td>\n",
              "      <td>75</td>\n",
              "      <td>45</td>\n",
              "      <td>2</td>\n",
              "      <td>1</td>\n",
              "      <td>0</td>\n",
              "      <td>360000</td>\n",
              "      <td>Depok, Bojong Gede</td>\n",
              "    </tr>\n",
              "    <tr>\n",
              "      <th>7060</th>\n",
              "      <td>Rumah Take Over Bojong Gede, Bojong Gede, Depok</td>\n",
              "      <td>80</td>\n",
              "      <td>36</td>\n",
              "      <td>2</td>\n",
              "      <td>1</td>\n",
              "      <td>0</td>\n",
              "      <td>80000</td>\n",
              "      <td>Depok, Bojong Gede</td>\n",
              "    </tr>\n",
              "    <tr>\n",
              "      <th>7197</th>\n",
              "      <td>rumah di citayam, harga promo free kanopi ming...</td>\n",
              "      <td>75</td>\n",
              "      <td>45</td>\n",
              "      <td>2</td>\n",
              "      <td>1</td>\n",
              "      <td>0</td>\n",
              "      <td>360000</td>\n",
              "      <td>Depok, Bojong Gede</td>\n",
              "    </tr>\n",
              "    <tr>\n",
              "      <th>7198</th>\n",
              "      <td>Rumah Take Over Kemuning, Bojong Gede, Depok</td>\n",
              "      <td>78</td>\n",
              "      <td>36</td>\n",
              "      <td>2</td>\n",
              "      <td>1</td>\n",
              "      <td>0</td>\n",
              "      <td>55000</td>\n",
              "      <td>Depok, Bojong Gede</td>\n",
              "    </tr>\n",
              "    <tr>\n",
              "      <th>7199</th>\n",
              "      <td>Rumah Take Over Kemuning Bojong Gede, Bojong G...</td>\n",
              "      <td>60</td>\n",
              "      <td>30</td>\n",
              "      <td>2</td>\n",
              "      <td>1</td>\n",
              "      <td>0</td>\n",
              "      <td>55000</td>\n",
              "      <td>Depok, Bojong Gede</td>\n",
              "    </tr>\n",
              "  </tbody>\n",
              "</table>\n",
              "<p>740 rows × 8 columns</p>\n",
              "</div>"
            ],
            "text/plain": [
              "                                             nama_rumah  ...                                           district\n",
              "0     Perumahan Surya asri Citayam dekat dengan fasi...  ...      Jl. Pandawa Raya, Ragajaya Bojong Gede, Bogor\n",
              "1                           Dijual rumah beserta isinya  ...  Jl. Raya Kemuning no. 4 Tonjong Raya, Bojong G...\n",
              "2     Cluster Murah Bebas Biaya - Biaya Akses Dekat ...  ...                                 Bojong Gede, Bogor\n",
              "3                                     Zahra Townhouse 3  ...  Perumahan Bilabong Desa Cimanggis Kecamatan Bo...\n",
              "4     Ramai huni! Diskon 30 JUTA! Plus Diskon DP 15 ...  ...      jl. kemuning II bojonggede Bojong Gede, Bogor\n",
              "...                                                 ...  ...                                                ...\n",
              "7040  rumah mewah lokasi 5 menit kestasiun bojongged...  ...                                 Depok, Bojong Gede\n",
              "7060    Rumah Take Over Bojong Gede, Bojong Gede, Depok  ...                                 Depok, Bojong Gede\n",
              "7197  rumah di citayam, harga promo free kanopi ming...  ...                                 Depok, Bojong Gede\n",
              "7198       Rumah Take Over Kemuning, Bojong Gede, Depok  ...                                 Depok, Bojong Gede\n",
              "7199  Rumah Take Over Kemuning Bojong Gede, Bojong G...  ...                                 Depok, Bojong Gede\n",
              "\n",
              "[740 rows x 8 columns]"
            ]
          },
          "metadata": {
            "tags": []
          },
          "execution_count": 16
        }
      ]
    },
    {
      "cell_type": "code",
      "metadata": {
        "colab": {
          "base_uri": "https://localhost:8080/",
          "height": 487
        },
        "id": "Uq8NfI6TA6gc",
        "outputId": "f1f64526-9323-481f-af0d-3b42b23837b8"
      },
      "source": [
        "data.drop(data.index[data['luas_lahan'] > 1000], inplace = True)\n",
        "data"
      ],
      "execution_count": null,
      "outputs": [
        {
          "output_type": "execute_result",
          "data": {
            "text/html": [
              "<div>\n",
              "<style scoped>\n",
              "    .dataframe tbody tr th:only-of-type {\n",
              "        vertical-align: middle;\n",
              "    }\n",
              "\n",
              "    .dataframe tbody tr th {\n",
              "        vertical-align: top;\n",
              "    }\n",
              "\n",
              "    .dataframe thead th {\n",
              "        text-align: right;\n",
              "    }\n",
              "</style>\n",
              "<table border=\"1\" class=\"dataframe\">\n",
              "  <thead>\n",
              "    <tr style=\"text-align: right;\">\n",
              "      <th></th>\n",
              "      <th>nama_rumah</th>\n",
              "      <th>luas_lahan</th>\n",
              "      <th>luas_bangunan</th>\n",
              "      <th>kmr_tidur</th>\n",
              "      <th>kmr_mandi</th>\n",
              "      <th>tmp_parkir</th>\n",
              "      <th>harga</th>\n",
              "      <th>district</th>\n",
              "    </tr>\n",
              "  </thead>\n",
              "  <tbody>\n",
              "    <tr>\n",
              "      <th>0</th>\n",
              "      <td>Perumahan Surya asri Citayam dekat dengan fasi...</td>\n",
              "      <td>60</td>\n",
              "      <td>36</td>\n",
              "      <td>2</td>\n",
              "      <td>1</td>\n",
              "      <td>0</td>\n",
              "      <td>335000</td>\n",
              "      <td>Jl. Pandawa Raya, Ragajaya Bojong Gede, Bogor</td>\n",
              "    </tr>\n",
              "    <tr>\n",
              "      <th>1</th>\n",
              "      <td>Dijual rumah beserta isinya</td>\n",
              "      <td>110</td>\n",
              "      <td>45</td>\n",
              "      <td>2</td>\n",
              "      <td>1</td>\n",
              "      <td>0</td>\n",
              "      <td>595000</td>\n",
              "      <td>Jl. Raya Kemuning no. 4 Tonjong Raya, Bojong G...</td>\n",
              "    </tr>\n",
              "    <tr>\n",
              "      <th>2</th>\n",
              "      <td>Cluster Murah Bebas Biaya - Biaya Akses Dekat ...</td>\n",
              "      <td>73</td>\n",
              "      <td>45</td>\n",
              "      <td>2</td>\n",
              "      <td>1</td>\n",
              "      <td>0</td>\n",
              "      <td>425000</td>\n",
              "      <td>Bojong Gede, Bogor</td>\n",
              "    </tr>\n",
              "    <tr>\n",
              "      <th>3</th>\n",
              "      <td>Zahra Townhouse 3</td>\n",
              "      <td>63</td>\n",
              "      <td>36</td>\n",
              "      <td>2</td>\n",
              "      <td>1</td>\n",
              "      <td>0</td>\n",
              "      <td>346500</td>\n",
              "      <td>Perumahan Bilabong Desa Cimanggis Kecamatan Bo...</td>\n",
              "    </tr>\n",
              "    <tr>\n",
              "      <th>4</th>\n",
              "      <td>Ramai huni! Diskon 30 JUTA! Plus Diskon DP 15 ...</td>\n",
              "      <td>66</td>\n",
              "      <td>36</td>\n",
              "      <td>2</td>\n",
              "      <td>1</td>\n",
              "      <td>0</td>\n",
              "      <td>418800</td>\n",
              "      <td>jl. kemuning II bojonggede Bojong Gede, Bogor</td>\n",
              "    </tr>\n",
              "    <tr>\n",
              "      <th>...</th>\n",
              "      <td>...</td>\n",
              "      <td>...</td>\n",
              "      <td>...</td>\n",
              "      <td>...</td>\n",
              "      <td>...</td>\n",
              "      <td>...</td>\n",
              "      <td>...</td>\n",
              "      <td>...</td>\n",
              "    </tr>\n",
              "    <tr>\n",
              "      <th>7040</th>\n",
              "      <td>rumah mewah lokasi 5 menit kestasiun bojongged...</td>\n",
              "      <td>75</td>\n",
              "      <td>45</td>\n",
              "      <td>2</td>\n",
              "      <td>1</td>\n",
              "      <td>0</td>\n",
              "      <td>360000</td>\n",
              "      <td>Depok, Bojong Gede</td>\n",
              "    </tr>\n",
              "    <tr>\n",
              "      <th>7060</th>\n",
              "      <td>Rumah Take Over Bojong Gede, Bojong Gede, Depok</td>\n",
              "      <td>80</td>\n",
              "      <td>36</td>\n",
              "      <td>2</td>\n",
              "      <td>1</td>\n",
              "      <td>0</td>\n",
              "      <td>80000</td>\n",
              "      <td>Depok, Bojong Gede</td>\n",
              "    </tr>\n",
              "    <tr>\n",
              "      <th>7197</th>\n",
              "      <td>rumah di citayam, harga promo free kanopi ming...</td>\n",
              "      <td>75</td>\n",
              "      <td>45</td>\n",
              "      <td>2</td>\n",
              "      <td>1</td>\n",
              "      <td>0</td>\n",
              "      <td>360000</td>\n",
              "      <td>Depok, Bojong Gede</td>\n",
              "    </tr>\n",
              "    <tr>\n",
              "      <th>7198</th>\n",
              "      <td>Rumah Take Over Kemuning, Bojong Gede, Depok</td>\n",
              "      <td>78</td>\n",
              "      <td>36</td>\n",
              "      <td>2</td>\n",
              "      <td>1</td>\n",
              "      <td>0</td>\n",
              "      <td>55000</td>\n",
              "      <td>Depok, Bojong Gede</td>\n",
              "    </tr>\n",
              "    <tr>\n",
              "      <th>7199</th>\n",
              "      <td>Rumah Take Over Kemuning Bojong Gede, Bojong G...</td>\n",
              "      <td>60</td>\n",
              "      <td>30</td>\n",
              "      <td>2</td>\n",
              "      <td>1</td>\n",
              "      <td>0</td>\n",
              "      <td>55000</td>\n",
              "      <td>Depok, Bojong Gede</td>\n",
              "    </tr>\n",
              "  </tbody>\n",
              "</table>\n",
              "<p>736 rows × 8 columns</p>\n",
              "</div>"
            ],
            "text/plain": [
              "                                             nama_rumah  ...                                           district\n",
              "0     Perumahan Surya asri Citayam dekat dengan fasi...  ...      Jl. Pandawa Raya, Ragajaya Bojong Gede, Bogor\n",
              "1                           Dijual rumah beserta isinya  ...  Jl. Raya Kemuning no. 4 Tonjong Raya, Bojong G...\n",
              "2     Cluster Murah Bebas Biaya - Biaya Akses Dekat ...  ...                                 Bojong Gede, Bogor\n",
              "3                                     Zahra Townhouse 3  ...  Perumahan Bilabong Desa Cimanggis Kecamatan Bo...\n",
              "4     Ramai huni! Diskon 30 JUTA! Plus Diskon DP 15 ...  ...      jl. kemuning II bojonggede Bojong Gede, Bogor\n",
              "...                                                 ...  ...                                                ...\n",
              "7040  rumah mewah lokasi 5 menit kestasiun bojongged...  ...                                 Depok, Bojong Gede\n",
              "7060    Rumah Take Over Bojong Gede, Bojong Gede, Depok  ...                                 Depok, Bojong Gede\n",
              "7197  rumah di citayam, harga promo free kanopi ming...  ...                                 Depok, Bojong Gede\n",
              "7198       Rumah Take Over Kemuning, Bojong Gede, Depok  ...                                 Depok, Bojong Gede\n",
              "7199  Rumah Take Over Kemuning Bojong Gede, Bojong G...  ...                                 Depok, Bojong Gede\n",
              "\n",
              "[736 rows x 8 columns]"
            ]
          },
          "metadata": {
            "tags": []
          },
          "execution_count": 17
        }
      ]
    },
    {
      "cell_type": "code",
      "metadata": {
        "colab": {
          "base_uri": "https://localhost:8080/",
          "height": 504
        },
        "id": "s6yJoAWRF6Zf",
        "outputId": "e052ff0f-8d06-4c62-8e4e-f032fe43d222"
      },
      "source": [
        "data.drop(data.index[data['luas_lahan'] <= 60], inplace = True)\n",
        "data"
      ],
      "execution_count": null,
      "outputs": [
        {
          "output_type": "execute_result",
          "data": {
            "text/html": [
              "<div>\n",
              "<style scoped>\n",
              "    .dataframe tbody tr th:only-of-type {\n",
              "        vertical-align: middle;\n",
              "    }\n",
              "\n",
              "    .dataframe tbody tr th {\n",
              "        vertical-align: top;\n",
              "    }\n",
              "\n",
              "    .dataframe thead th {\n",
              "        text-align: right;\n",
              "    }\n",
              "</style>\n",
              "<table border=\"1\" class=\"dataframe\">\n",
              "  <thead>\n",
              "    <tr style=\"text-align: right;\">\n",
              "      <th></th>\n",
              "      <th>nama_rumah</th>\n",
              "      <th>luas_lahan</th>\n",
              "      <th>luas_bangunan</th>\n",
              "      <th>kmr_tidur</th>\n",
              "      <th>kmr_mandi</th>\n",
              "      <th>tmp_parkir</th>\n",
              "      <th>harga</th>\n",
              "      <th>district</th>\n",
              "    </tr>\n",
              "  </thead>\n",
              "  <tbody>\n",
              "    <tr>\n",
              "      <th>1</th>\n",
              "      <td>Dijual rumah beserta isinya</td>\n",
              "      <td>110</td>\n",
              "      <td>45</td>\n",
              "      <td>2</td>\n",
              "      <td>1</td>\n",
              "      <td>0</td>\n",
              "      <td>595000</td>\n",
              "      <td>Jl. Raya Kemuning no. 4 Tonjong Raya, Bojong G...</td>\n",
              "    </tr>\n",
              "    <tr>\n",
              "      <th>2</th>\n",
              "      <td>Cluster Murah Bebas Biaya - Biaya Akses Dekat ...</td>\n",
              "      <td>73</td>\n",
              "      <td>45</td>\n",
              "      <td>2</td>\n",
              "      <td>1</td>\n",
              "      <td>0</td>\n",
              "      <td>425000</td>\n",
              "      <td>Bojong Gede, Bogor</td>\n",
              "    </tr>\n",
              "    <tr>\n",
              "      <th>3</th>\n",
              "      <td>Zahra Townhouse 3</td>\n",
              "      <td>63</td>\n",
              "      <td>36</td>\n",
              "      <td>2</td>\n",
              "      <td>1</td>\n",
              "      <td>0</td>\n",
              "      <td>346500</td>\n",
              "      <td>Perumahan Bilabong Desa Cimanggis Kecamatan Bo...</td>\n",
              "    </tr>\n",
              "    <tr>\n",
              "      <th>4</th>\n",
              "      <td>Ramai huni! Diskon 30 JUTA! Plus Diskon DP 15 ...</td>\n",
              "      <td>66</td>\n",
              "      <td>36</td>\n",
              "      <td>2</td>\n",
              "      <td>1</td>\n",
              "      <td>0</td>\n",
              "      <td>418800</td>\n",
              "      <td>jl. kemuning II bojonggede Bojong Gede, Bogor</td>\n",
              "    </tr>\n",
              "    <tr>\n",
              "      <th>6</th>\n",
              "      <td>Rumah Tahan Gempa Hingga 7Sr Pertama Di Indone...</td>\n",
              "      <td>84</td>\n",
              "      <td>36</td>\n",
              "      <td>2</td>\n",
              "      <td>1</td>\n",
              "      <td>0</td>\n",
              "      <td>595000</td>\n",
              "      <td>Lingkar LIPI Bojong Gede, Bogor</td>\n",
              "    </tr>\n",
              "    <tr>\n",
              "      <th>...</th>\n",
              "      <td>...</td>\n",
              "      <td>...</td>\n",
              "      <td>...</td>\n",
              "      <td>...</td>\n",
              "      <td>...</td>\n",
              "      <td>...</td>\n",
              "      <td>...</td>\n",
              "      <td>...</td>\n",
              "    </tr>\n",
              "    <tr>\n",
              "      <th>6889</th>\n",
              "      <td>rumah diperumahan pesona citayam, Bojong Gede,...</td>\n",
              "      <td>120</td>\n",
              "      <td>50</td>\n",
              "      <td>2</td>\n",
              "      <td>1</td>\n",
              "      <td>0</td>\n",
              "      <td>515000</td>\n",
              "      <td>Depok, Bojong Gede</td>\n",
              "    </tr>\n",
              "    <tr>\n",
              "      <th>7040</th>\n",
              "      <td>rumah mewah lokasi 5 menit kestasiun bojongged...</td>\n",
              "      <td>75</td>\n",
              "      <td>45</td>\n",
              "      <td>2</td>\n",
              "      <td>1</td>\n",
              "      <td>0</td>\n",
              "      <td>360000</td>\n",
              "      <td>Depok, Bojong Gede</td>\n",
              "    </tr>\n",
              "    <tr>\n",
              "      <th>7060</th>\n",
              "      <td>Rumah Take Over Bojong Gede, Bojong Gede, Depok</td>\n",
              "      <td>80</td>\n",
              "      <td>36</td>\n",
              "      <td>2</td>\n",
              "      <td>1</td>\n",
              "      <td>0</td>\n",
              "      <td>80000</td>\n",
              "      <td>Depok, Bojong Gede</td>\n",
              "    </tr>\n",
              "    <tr>\n",
              "      <th>7197</th>\n",
              "      <td>rumah di citayam, harga promo free kanopi ming...</td>\n",
              "      <td>75</td>\n",
              "      <td>45</td>\n",
              "      <td>2</td>\n",
              "      <td>1</td>\n",
              "      <td>0</td>\n",
              "      <td>360000</td>\n",
              "      <td>Depok, Bojong Gede</td>\n",
              "    </tr>\n",
              "    <tr>\n",
              "      <th>7198</th>\n",
              "      <td>Rumah Take Over Kemuning, Bojong Gede, Depok</td>\n",
              "      <td>78</td>\n",
              "      <td>36</td>\n",
              "      <td>2</td>\n",
              "      <td>1</td>\n",
              "      <td>0</td>\n",
              "      <td>55000</td>\n",
              "      <td>Depok, Bojong Gede</td>\n",
              "    </tr>\n",
              "  </tbody>\n",
              "</table>\n",
              "<p>481 rows × 8 columns</p>\n",
              "</div>"
            ],
            "text/plain": [
              "                                             nama_rumah  ...                                           district\n",
              "1                           Dijual rumah beserta isinya  ...  Jl. Raya Kemuning no. 4 Tonjong Raya, Bojong G...\n",
              "2     Cluster Murah Bebas Biaya - Biaya Akses Dekat ...  ...                                 Bojong Gede, Bogor\n",
              "3                                     Zahra Townhouse 3  ...  Perumahan Bilabong Desa Cimanggis Kecamatan Bo...\n",
              "4     Ramai huni! Diskon 30 JUTA! Plus Diskon DP 15 ...  ...      jl. kemuning II bojonggede Bojong Gede, Bogor\n",
              "6     Rumah Tahan Gempa Hingga 7Sr Pertama Di Indone...  ...                    Lingkar LIPI Bojong Gede, Bogor\n",
              "...                                                 ...  ...                                                ...\n",
              "6889  rumah diperumahan pesona citayam, Bojong Gede,...  ...                                 Depok, Bojong Gede\n",
              "7040  rumah mewah lokasi 5 menit kestasiun bojongged...  ...                                 Depok, Bojong Gede\n",
              "7060    Rumah Take Over Bojong Gede, Bojong Gede, Depok  ...                                 Depok, Bojong Gede\n",
              "7197  rumah di citayam, harga promo free kanopi ming...  ...                                 Depok, Bojong Gede\n",
              "7198       Rumah Take Over Kemuning, Bojong Gede, Depok  ...                                 Depok, Bojong Gede\n",
              "\n",
              "[481 rows x 8 columns]"
            ]
          },
          "metadata": {
            "tags": []
          },
          "execution_count": 18
        }
      ]
    },
    {
      "cell_type": "code",
      "metadata": {
        "colab": {
          "base_uri": "https://localhost:8080/",
          "height": 297
        },
        "id": "-kiH-WKefSc2",
        "outputId": "4139d82c-507d-4144-bdba-72957aeb3470"
      },
      "source": [
        "data.describe()"
      ],
      "execution_count": null,
      "outputs": [
        {
          "output_type": "execute_result",
          "data": {
            "text/html": [
              "<div>\n",
              "<style scoped>\n",
              "    .dataframe tbody tr th:only-of-type {\n",
              "        vertical-align: middle;\n",
              "    }\n",
              "\n",
              "    .dataframe tbody tr th {\n",
              "        vertical-align: top;\n",
              "    }\n",
              "\n",
              "    .dataframe thead th {\n",
              "        text-align: right;\n",
              "    }\n",
              "</style>\n",
              "<table border=\"1\" class=\"dataframe\">\n",
              "  <thead>\n",
              "    <tr style=\"text-align: right;\">\n",
              "      <th></th>\n",
              "      <th>luas_lahan</th>\n",
              "      <th>luas_bangunan</th>\n",
              "      <th>kmr_tidur</th>\n",
              "      <th>kmr_mandi</th>\n",
              "      <th>tmp_parkir</th>\n",
              "      <th>harga</th>\n",
              "    </tr>\n",
              "  </thead>\n",
              "  <tbody>\n",
              "    <tr>\n",
              "      <th>count</th>\n",
              "      <td>481.000000</td>\n",
              "      <td>481.000000</td>\n",
              "      <td>481.000000</td>\n",
              "      <td>481.000000</td>\n",
              "      <td>481.000000</td>\n",
              "      <td>4.810000e+02</td>\n",
              "    </tr>\n",
              "    <tr>\n",
              "      <th>mean</th>\n",
              "      <td>95.180873</td>\n",
              "      <td>56.162162</td>\n",
              "      <td>2.174636</td>\n",
              "      <td>1.170478</td>\n",
              "      <td>0.076923</td>\n",
              "      <td>4.815726e+05</td>\n",
              "    </tr>\n",
              "    <tr>\n",
              "      <th>std</th>\n",
              "      <td>67.156553</td>\n",
              "      <td>55.378496</td>\n",
              "      <td>0.583328</td>\n",
              "      <td>0.504192</td>\n",
              "      <td>0.274446</td>\n",
              "      <td>5.217905e+05</td>\n",
              "    </tr>\n",
              "    <tr>\n",
              "      <th>min</th>\n",
              "      <td>61.000000</td>\n",
              "      <td>27.000000</td>\n",
              "      <td>1.000000</td>\n",
              "      <td>1.000000</td>\n",
              "      <td>0.000000</td>\n",
              "      <td>5.000000e+04</td>\n",
              "    </tr>\n",
              "    <tr>\n",
              "      <th>25%</th>\n",
              "      <td>71.000000</td>\n",
              "      <td>36.000000</td>\n",
              "      <td>2.000000</td>\n",
              "      <td>1.000000</td>\n",
              "      <td>0.000000</td>\n",
              "      <td>3.500000e+05</td>\n",
              "    </tr>\n",
              "    <tr>\n",
              "      <th>50%</th>\n",
              "      <td>75.000000</td>\n",
              "      <td>43.000000</td>\n",
              "      <td>2.000000</td>\n",
              "      <td>1.000000</td>\n",
              "      <td>0.000000</td>\n",
              "      <td>3.980000e+05</td>\n",
              "    </tr>\n",
              "    <tr>\n",
              "      <th>75%</th>\n",
              "      <td>90.000000</td>\n",
              "      <td>54.000000</td>\n",
              "      <td>2.000000</td>\n",
              "      <td>1.000000</td>\n",
              "      <td>0.000000</td>\n",
              "      <td>4.800000e+05</td>\n",
              "    </tr>\n",
              "    <tr>\n",
              "      <th>max</th>\n",
              "      <td>850.000000</td>\n",
              "      <td>850.000000</td>\n",
              "      <td>6.000000</td>\n",
              "      <td>5.000000</td>\n",
              "      <td>2.000000</td>\n",
              "      <td>9.000000e+06</td>\n",
              "    </tr>\n",
              "  </tbody>\n",
              "</table>\n",
              "</div>"
            ],
            "text/plain": [
              "       luas_lahan  luas_bangunan  ...  tmp_parkir         harga\n",
              "count  481.000000     481.000000  ...  481.000000  4.810000e+02\n",
              "mean    95.180873      56.162162  ...    0.076923  4.815726e+05\n",
              "std     67.156553      55.378496  ...    0.274446  5.217905e+05\n",
              "min     61.000000      27.000000  ...    0.000000  5.000000e+04\n",
              "25%     71.000000      36.000000  ...    0.000000  3.500000e+05\n",
              "50%     75.000000      43.000000  ...    0.000000  3.980000e+05\n",
              "75%     90.000000      54.000000  ...    0.000000  4.800000e+05\n",
              "max    850.000000     850.000000  ...    2.000000  9.000000e+06\n",
              "\n",
              "[8 rows x 6 columns]"
            ]
          },
          "metadata": {
            "tags": []
          },
          "execution_count": 19
        }
      ]
    },
    {
      "cell_type": "markdown",
      "metadata": {
        "id": "JUXusbuEgEE_"
      },
      "source": [
        "\n",
        "\n",
        "---\n",
        "\n"
      ]
    },
    {
      "cell_type": "code",
      "metadata": {
        "id": "E2IxPTMUbyqm"
      },
      "source": [
        "# data['kmr_tidur'].value_counts().plot(kind='bar')\n",
        "# plt.title('Jumlah kamar tidur')\n",
        "# plt.xlabel('kmr_tidur')\n",
        "# plt.ylabel('Jumlah')\n",
        "# sns.despine"
      ],
      "execution_count": null,
      "outputs": []
    },
    {
      "cell_type": "code",
      "metadata": {
        "id": "pSAEl984b4Pb"
      },
      "source": [
        "# chart = plt.figure(figsize=(12,4))\n",
        "# chart.add_subplot(1,2,1)\n",
        "# sns.countplot(data['kmr_tidur'])\n",
        "# plt.title('Jumlah kamar tidur')"
      ],
      "execution_count": null,
      "outputs": []
    },
    {
      "cell_type": "code",
      "metadata": {
        "id": "ltbtuaCDcCGx"
      },
      "source": [
        "# data['kmr_mandi'].value_counts().plot(kind='bar')\n",
        "# plt.title('Jumlah kamar mandi')\n",
        "# plt.xlabel('kmr_mandi')\n",
        "# plt.ylabel('Jumlah')\n",
        "# sns.despine"
      ],
      "execution_count": null,
      "outputs": []
    },
    {
      "cell_type": "code",
      "metadata": {
        "id": "NUL0cofkcFh2"
      },
      "source": [
        "# chart = plt.figure(figsize=(12,4))\n",
        "# chart.add_subplot(1,2,1)\n",
        "# sns.countplot(data['kmr_mandi'])\n",
        "# plt.title('Jumlah kamar mandi')"
      ],
      "execution_count": null,
      "outputs": []
    },
    {
      "cell_type": "code",
      "metadata": {
        "id": "yTGQzy3qcJ6v"
      },
      "source": [
        "# plt.figure(figsize=(25,4))\n",
        "# data['luas_lahan'].value_counts().plot(kind='bar')\n",
        "# plt.title('Jumlah luas lahan')\n",
        "# plt.xlabel('luas_lahan')\n",
        "# plt.ylabel('Jumlah')\n",
        "# sns.despine"
      ],
      "execution_count": null,
      "outputs": []
    },
    {
      "cell_type": "code",
      "metadata": {
        "id": "yL8jY1PlcPfD"
      },
      "source": [
        "# chart = plt.figure(figsize=(69,4))\n",
        "# chart.add_subplot(1,2,1)\n",
        "# sns.countplot(data['luas_lahan'])\n",
        "# plt.title('jumlah luas lahan')"
      ],
      "execution_count": null,
      "outputs": []
    },
    {
      "cell_type": "code",
      "metadata": {
        "id": "qiWL5jnhckTV"
      },
      "source": [
        "# plt.figure(figsize=(25,4))\n",
        "# data['luas_bangunan'].value_counts().plot(kind='bar')\n",
        "# plt.title('Jumlah luas bangunan')\n",
        "# plt.xlabel('luas_bangunan')\n",
        "# plt.ylabel('jumlah')\n",
        "# sns.despine"
      ],
      "execution_count": null,
      "outputs": []
    },
    {
      "cell_type": "code",
      "metadata": {
        "id": "6c90-NhNcr2x"
      },
      "source": [
        "# chart = plt.figure(figsize=(69,4))\n",
        "# chart.add_subplot(1,2,1)\n",
        "# sns.countplot(data['luas_bangunan'])\n",
        "# plt.title('jumlah luas bangunan')"
      ],
      "execution_count": null,
      "outputs": []
    },
    {
      "cell_type": "code",
      "metadata": {
        "id": "3nGsztCuc5V2"
      },
      "source": [
        "# plt.figure(figsize=(25,5))\n",
        "# sns.pairplot(data=data, x_vars=['luas_lahan', 'luas_bangunan', 'kmr_tidur', 'kmr_mandi', 'tmp_parkir'], y_vars=['harga'], height=5, aspect=1)"
      ],
      "execution_count": null,
      "outputs": []
    },
    {
      "cell_type": "code",
      "metadata": {
        "id": "o3aG8xGkdEN6"
      },
      "source": [
        "# plt.scatter(data.harga, data.luas_lahan)\n",
        "# plt.title('harga vs luas lahan')"
      ],
      "execution_count": null,
      "outputs": []
    },
    {
      "cell_type": "code",
      "metadata": {
        "id": "amYVhT73dVxL"
      },
      "source": [
        "# plt.scatter(data.harga, data.luas_bangunan)\n",
        "# plt.title('harga vs luas bangunan')"
      ],
      "execution_count": null,
      "outputs": []
    },
    {
      "cell_type": "code",
      "metadata": {
        "id": "moSdUIU9dahc"
      },
      "source": [
        "# plt.scatter(data.kmr_tidur, data.harga)\n",
        "# plt.title('harga dan kamar tidur')\n",
        "# plt.xlabel('kmr_tidur')\n",
        "# plt.ylabel('harga')\n",
        "# plt.show()\n",
        "# # sns.despinee"
      ],
      "execution_count": null,
      "outputs": []
    },
    {
      "cell_type": "code",
      "metadata": {
        "id": "5hd2m9MTdh3h"
      },
      "source": [
        "# plt.scatter(data['kmr_mandi'], data.harga)\n",
        "# plt.title('kamar mandi dan harga')\n",
        "# plt.xlabel('kamar mandi')\n",
        "# plt.ylabel('harga')\n",
        "# plt.show()\n",
        "# # sns.despinee"
      ],
      "execution_count": null,
      "outputs": []
    },
    {
      "cell_type": "code",
      "metadata": {
        "id": "FHn-Wj1JdlO_"
      },
      "source": [
        "# plt.scatter(data['harga'], (data['luas_lahan'] + data['luas_bangunan']))"
      ],
      "execution_count": null,
      "outputs": []
    },
    {
      "cell_type": "code",
      "metadata": {
        "id": "jRjsq-MGxK0W"
      },
      "source": [
        "# correlation(data, 'price', 'surfaceArea')"
      ],
      "execution_count": null,
      "outputs": []
    },
    {
      "cell_type": "code",
      "metadata": {
        "id": "J7563Xcadsht",
        "colab": {
          "base_uri": "https://localhost:8080/",
          "height": 166
        },
        "outputId": "b822e7c4-f136-4e05-de46-1b4932fc28ef"
      },
      "source": [
        "data.corr().style.background_gradient().set_precision(2)"
      ],
      "execution_count": null,
      "outputs": [
        {
          "output_type": "execute_result",
          "data": {
            "text/html": [
              "<style  type=\"text/css\" >\n",
              "#T_cb38f354_44be_11eb_87cd_0242ac1c0002row0_col0,#T_cb38f354_44be_11eb_87cd_0242ac1c0002row1_col1,#T_cb38f354_44be_11eb_87cd_0242ac1c0002row2_col2,#T_cb38f354_44be_11eb_87cd_0242ac1c0002row3_col3,#T_cb38f354_44be_11eb_87cd_0242ac1c0002row4_col4,#T_cb38f354_44be_11eb_87cd_0242ac1c0002row5_col5{\n",
              "            background-color:  #023858;\n",
              "            color:  #f1f1f1;\n",
              "        }#T_cb38f354_44be_11eb_87cd_0242ac1c0002row0_col1,#T_cb38f354_44be_11eb_87cd_0242ac1c0002row1_col0{\n",
              "            background-color:  #045687;\n",
              "            color:  #f1f1f1;\n",
              "        }#T_cb38f354_44be_11eb_87cd_0242ac1c0002row0_col2{\n",
              "            background-color:  #328dbf;\n",
              "            color:  #000000;\n",
              "        }#T_cb38f354_44be_11eb_87cd_0242ac1c0002row0_col3{\n",
              "            background-color:  #2c89bd;\n",
              "            color:  #000000;\n",
              "        }#T_cb38f354_44be_11eb_87cd_0242ac1c0002row0_col4,#T_cb38f354_44be_11eb_87cd_0242ac1c0002row1_col4{\n",
              "            background-color:  #fdf5fa;\n",
              "            color:  #000000;\n",
              "        }#T_cb38f354_44be_11eb_87cd_0242ac1c0002row0_col5{\n",
              "            background-color:  #056ba9;\n",
              "            color:  #f1f1f1;\n",
              "        }#T_cb38f354_44be_11eb_87cd_0242ac1c0002row1_col2{\n",
              "            background-color:  #1e80b8;\n",
              "            color:  #000000;\n",
              "        }#T_cb38f354_44be_11eb_87cd_0242ac1c0002row1_col3{\n",
              "            background-color:  #1c7fb8;\n",
              "            color:  #000000;\n",
              "        }#T_cb38f354_44be_11eb_87cd_0242ac1c0002row1_col5{\n",
              "            background-color:  #046299;\n",
              "            color:  #f1f1f1;\n",
              "        }#T_cb38f354_44be_11eb_87cd_0242ac1c0002row2_col0{\n",
              "            background-color:  #358fc0;\n",
              "            color:  #000000;\n",
              "        }#T_cb38f354_44be_11eb_87cd_0242ac1c0002row2_col1{\n",
              "            background-color:  #2182b9;\n",
              "            color:  #000000;\n",
              "        }#T_cb38f354_44be_11eb_87cd_0242ac1c0002row2_col3{\n",
              "            background-color:  #056fae;\n",
              "            color:  #f1f1f1;\n",
              "        }#T_cb38f354_44be_11eb_87cd_0242ac1c0002row2_col4,#T_cb38f354_44be_11eb_87cd_0242ac1c0002row4_col0,#T_cb38f354_44be_11eb_87cd_0242ac1c0002row4_col1,#T_cb38f354_44be_11eb_87cd_0242ac1c0002row4_col2,#T_cb38f354_44be_11eb_87cd_0242ac1c0002row4_col3,#T_cb38f354_44be_11eb_87cd_0242ac1c0002row4_col5{\n",
              "            background-color:  #fff7fb;\n",
              "            color:  #000000;\n",
              "        }#T_cb38f354_44be_11eb_87cd_0242ac1c0002row2_col5{\n",
              "            background-color:  #4e9ac6;\n",
              "            color:  #000000;\n",
              "        }#T_cb38f354_44be_11eb_87cd_0242ac1c0002row3_col0{\n",
              "            background-color:  #2987bc;\n",
              "            color:  #000000;\n",
              "        }#T_cb38f354_44be_11eb_87cd_0242ac1c0002row3_col1{\n",
              "            background-color:  #1b7eb7;\n",
              "            color:  #000000;\n",
              "        }#T_cb38f354_44be_11eb_87cd_0242ac1c0002row3_col2{\n",
              "            background-color:  #056dac;\n",
              "            color:  #f1f1f1;\n",
              "        }#T_cb38f354_44be_11eb_87cd_0242ac1c0002row3_col4{\n",
              "            background-color:  #faf3f9;\n",
              "            color:  #000000;\n",
              "        }#T_cb38f354_44be_11eb_87cd_0242ac1c0002row3_col5{\n",
              "            background-color:  #3f93c2;\n",
              "            color:  #000000;\n",
              "        }#T_cb38f354_44be_11eb_87cd_0242ac1c0002row5_col0{\n",
              "            background-color:  #056aa6;\n",
              "            color:  #f1f1f1;\n",
              "        }#T_cb38f354_44be_11eb_87cd_0242ac1c0002row5_col1{\n",
              "            background-color:  #046097;\n",
              "            color:  #f1f1f1;\n",
              "        }#T_cb38f354_44be_11eb_87cd_0242ac1c0002row5_col2{\n",
              "            background-color:  #4094c3;\n",
              "            color:  #000000;\n",
              "        }#T_cb38f354_44be_11eb_87cd_0242ac1c0002row5_col3{\n",
              "            background-color:  #3991c1;\n",
              "            color:  #000000;\n",
              "        }#T_cb38f354_44be_11eb_87cd_0242ac1c0002row5_col4{\n",
              "            background-color:  #f5eff6;\n",
              "            color:  #000000;\n",
              "        }</style><table id=\"T_cb38f354_44be_11eb_87cd_0242ac1c0002\" ><thead>    <tr>        <th class=\"blank level0\" ></th>        <th class=\"col_heading level0 col0\" >luas_lahan</th>        <th class=\"col_heading level0 col1\" >luas_bangunan</th>        <th class=\"col_heading level0 col2\" >kmr_tidur</th>        <th class=\"col_heading level0 col3\" >kmr_mandi</th>        <th class=\"col_heading level0 col4\" >tmp_parkir</th>        <th class=\"col_heading level0 col5\" >harga</th>    </tr></thead><tbody>\n",
              "                <tr>\n",
              "                        <th id=\"T_cb38f354_44be_11eb_87cd_0242ac1c0002level0_row0\" class=\"row_heading level0 row0\" >luas_lahan</th>\n",
              "                        <td id=\"T_cb38f354_44be_11eb_87cd_0242ac1c0002row0_col0\" class=\"data row0 col0\" >1.00</td>\n",
              "                        <td id=\"T_cb38f354_44be_11eb_87cd_0242ac1c0002row0_col1\" class=\"data row0 col1\" >0.88</td>\n",
              "                        <td id=\"T_cb38f354_44be_11eb_87cd_0242ac1c0002row0_col2\" class=\"data row0 col2\" >0.61</td>\n",
              "                        <td id=\"T_cb38f354_44be_11eb_87cd_0242ac1c0002row0_col3\" class=\"data row0 col3\" >0.64</td>\n",
              "                        <td id=\"T_cb38f354_44be_11eb_87cd_0242ac1c0002row0_col4\" class=\"data row0 col4\" >-0.06</td>\n",
              "                        <td id=\"T_cb38f354_44be_11eb_87cd_0242ac1c0002row0_col5\" class=\"data row0 col5\" >0.77</td>\n",
              "            </tr>\n",
              "            <tr>\n",
              "                        <th id=\"T_cb38f354_44be_11eb_87cd_0242ac1c0002level0_row1\" class=\"row_heading level0 row1\" >luas_bangunan</th>\n",
              "                        <td id=\"T_cb38f354_44be_11eb_87cd_0242ac1c0002row1_col0\" class=\"data row1 col0\" >0.88</td>\n",
              "                        <td id=\"T_cb38f354_44be_11eb_87cd_0242ac1c0002row1_col1\" class=\"data row1 col1\" >1.00</td>\n",
              "                        <td id=\"T_cb38f354_44be_11eb_87cd_0242ac1c0002row1_col2\" class=\"data row1 col2\" >0.66</td>\n",
              "                        <td id=\"T_cb38f354_44be_11eb_87cd_0242ac1c0002row1_col3\" class=\"data row1 col3\" >0.68</td>\n",
              "                        <td id=\"T_cb38f354_44be_11eb_87cd_0242ac1c0002row1_col4\" class=\"data row1 col4\" >-0.05</td>\n",
              "                        <td id=\"T_cb38f354_44be_11eb_87cd_0242ac1c0002row1_col5\" class=\"data row1 col5\" >0.83</td>\n",
              "            </tr>\n",
              "            <tr>\n",
              "                        <th id=\"T_cb38f354_44be_11eb_87cd_0242ac1c0002level0_row2\" class=\"row_heading level0 row2\" >kmr_tidur</th>\n",
              "                        <td id=\"T_cb38f354_44be_11eb_87cd_0242ac1c0002row2_col0\" class=\"data row2 col0\" >0.61</td>\n",
              "                        <td id=\"T_cb38f354_44be_11eb_87cd_0242ac1c0002row2_col1\" class=\"data row2 col1\" >0.66</td>\n",
              "                        <td id=\"T_cb38f354_44be_11eb_87cd_0242ac1c0002row2_col2\" class=\"data row2 col2\" >1.00</td>\n",
              "                        <td id=\"T_cb38f354_44be_11eb_87cd_0242ac1c0002row2_col3\" class=\"data row2 col3\" >0.75</td>\n",
              "                        <td id=\"T_cb38f354_44be_11eb_87cd_0242ac1c0002row2_col4\" class=\"data row2 col4\" >-0.07</td>\n",
              "                        <td id=\"T_cb38f354_44be_11eb_87cd_0242ac1c0002row2_col5\" class=\"data row2 col5\" >0.57</td>\n",
              "            </tr>\n",
              "            <tr>\n",
              "                        <th id=\"T_cb38f354_44be_11eb_87cd_0242ac1c0002level0_row3\" class=\"row_heading level0 row3\" >kmr_mandi</th>\n",
              "                        <td id=\"T_cb38f354_44be_11eb_87cd_0242ac1c0002row3_col0\" class=\"data row3 col0\" >0.64</td>\n",
              "                        <td id=\"T_cb38f354_44be_11eb_87cd_0242ac1c0002row3_col1\" class=\"data row3 col1\" >0.68</td>\n",
              "                        <td id=\"T_cb38f354_44be_11eb_87cd_0242ac1c0002row3_col2\" class=\"data row3 col2\" >0.75</td>\n",
              "                        <td id=\"T_cb38f354_44be_11eb_87cd_0242ac1c0002row3_col3\" class=\"data row3 col3\" >1.00</td>\n",
              "                        <td id=\"T_cb38f354_44be_11eb_87cd_0242ac1c0002row3_col4\" class=\"data row3 col4\" >-0.03</td>\n",
              "                        <td id=\"T_cb38f354_44be_11eb_87cd_0242ac1c0002row3_col5\" class=\"data row3 col5\" >0.61</td>\n",
              "            </tr>\n",
              "            <tr>\n",
              "                        <th id=\"T_cb38f354_44be_11eb_87cd_0242ac1c0002level0_row4\" class=\"row_heading level0 row4\" >tmp_parkir</th>\n",
              "                        <td id=\"T_cb38f354_44be_11eb_87cd_0242ac1c0002row4_col0\" class=\"data row4 col0\" >-0.06</td>\n",
              "                        <td id=\"T_cb38f354_44be_11eb_87cd_0242ac1c0002row4_col1\" class=\"data row4 col1\" >-0.05</td>\n",
              "                        <td id=\"T_cb38f354_44be_11eb_87cd_0242ac1c0002row4_col2\" class=\"data row4 col2\" >-0.07</td>\n",
              "                        <td id=\"T_cb38f354_44be_11eb_87cd_0242ac1c0002row4_col3\" class=\"data row4 col3\" >-0.03</td>\n",
              "                        <td id=\"T_cb38f354_44be_11eb_87cd_0242ac1c0002row4_col4\" class=\"data row4 col4\" >1.00</td>\n",
              "                        <td id=\"T_cb38f354_44be_11eb_87cd_0242ac1c0002row4_col5\" class=\"data row4 col5\" >-0.00</td>\n",
              "            </tr>\n",
              "            <tr>\n",
              "                        <th id=\"T_cb38f354_44be_11eb_87cd_0242ac1c0002level0_row5\" class=\"row_heading level0 row5\" >harga</th>\n",
              "                        <td id=\"T_cb38f354_44be_11eb_87cd_0242ac1c0002row5_col0\" class=\"data row5 col0\" >0.77</td>\n",
              "                        <td id=\"T_cb38f354_44be_11eb_87cd_0242ac1c0002row5_col1\" class=\"data row5 col1\" >0.83</td>\n",
              "                        <td id=\"T_cb38f354_44be_11eb_87cd_0242ac1c0002row5_col2\" class=\"data row5 col2\" >0.57</td>\n",
              "                        <td id=\"T_cb38f354_44be_11eb_87cd_0242ac1c0002row5_col3\" class=\"data row5 col3\" >0.61</td>\n",
              "                        <td id=\"T_cb38f354_44be_11eb_87cd_0242ac1c0002row5_col4\" class=\"data row5 col4\" >-0.00</td>\n",
              "                        <td id=\"T_cb38f354_44be_11eb_87cd_0242ac1c0002row5_col5\" class=\"data row5 col5\" >1.00</td>\n",
              "            </tr>\n",
              "    </tbody></table>"
            ],
            "text/plain": [
              "<pandas.io.formats.style.Styler at 0x7f4baffa4940>"
            ]
          },
          "metadata": {
            "tags": []
          },
          "execution_count": 35
        }
      ]
    },
    {
      "cell_type": "code",
      "metadata": {
        "id": "1qhb1UT3zpcy",
        "colab": {
          "base_uri": "https://localhost:8080/",
          "height": 596
        },
        "outputId": "35467781-72af-4b5f-d835-95349355288a"
      },
      "source": [
        "def correlation_heatmap(df1):\n",
        "    _,ax=plt.subplots(figsize=(15,10))\n",
        "    colormap=sns.diverging_palette(220,10,as_cmap=True)\n",
        "    sns.heatmap(data.corr(),annot=True,cmap=colormap)\n",
        "    \n",
        "correlation_heatmap(data)"
      ],
      "execution_count": null,
      "outputs": [
        {
          "output_type": "display_data",
          "data": {
            "image/png": "[encoded data removed]",
            "text/plain": [
              "<Figure size 1080x720 with 2 Axes>"
            ]
          },
          "metadata": {
            "tags": [],
            "needs_background": "light"
          }
        }
      ]
    },
    {
      "cell_type": "code",
      "metadata": {
        "id": "cSrPakghdwX5"
      },
      "source": [
        "from sklearn.linear_model import LinearRegression\n",
        "from sklearn.model_selection import train_test_split\n",
        "\n",
        "from sklearn.neighbors import KNeighborsRegressor\n",
        "from sklearn.preprocessing import PolynomialFeatures\n",
        "from sklearn import metrics\n",
        "from sklearn.metrics import r2_score #,mean_squared_error \n",
        "from mpl_toolkits.mplot3d import Axes3D\n",
        "%matplotlib inline"
      ],
      "execution_count": null,
      "outputs": []
    },
    {
      "cell_type": "code",
      "metadata": {
        "id": "qBwwE8SXeMJ8"
      },
      "source": [
        "train_data, test_data = train_test_split(data, train_size=0.9, random_state=1)"
      ],
      "execution_count": null,
      "outputs": []
    },
    {
      "cell_type": "markdown",
      "metadata": {
        "id": "E6qYJNBmgYUN"
      },
      "source": [
        "train_size=0.8, random_state=3 => predict=0.88\n",
        "\n",
        "train_size=0.7, random_state=3 => predict=0.80\n",
        "\n",
        "train_size=0.6, random_state=3 => predict=0.79\n",
        "\n",
        "train_size=0.5, random_state=3 => predict=0.79\n",
        "\n",
        "train_size=0.4, random_state=3 => predict=0.64\n",
        "\n",
        "train_size=0.3, random_state=3 => predict=0.60\n",
        "\n",
        "train_size=0.3, random_state=2 => predict=0.64\n",
        "\n",
        "train_size=0.4, random_state=2 => predict=0.69"
      ]
    },
    {
      "cell_type": "code",
      "metadata": {
        "id": "4Ai0RLxZ2Aah"
      },
      "source": [
        "reg = LinearRegression() "
      ],
      "execution_count": null,
      "outputs": []
    },
    {
      "cell_type": "code",
      "metadata": {
        "id": "bBrWQxcCCWgs"
      },
      "source": [
        "# x_test=np.array(test_data['sqft_living']).reshape(-1,1)\n",
        "y_test=np.array(test_data['harga']).reshape(-1,1)"
      ],
      "execution_count": null,
      "outputs": []
    },
    {
      "cell_type": "code",
      "metadata": {
        "id": "vm-33_Ll2qdl",
        "colab": {
          "base_uri": "https://localhost:8080/"
        },
        "outputId": "609c73e7-61b2-4934-8f0e-1d6e00b38d3b"
      },
      "source": [
        "features1=['luas_lahan','luas_bangunan','kmr_tidur','kmr_mandi', 'tmp_parkir']\n",
        "reg.fit(train_data[features1],train_data['harga'])\n",
        "pred=reg.predict(test_data[features1])\n",
        "score = reg.score(test_data[features1],test_data['harga'])\n",
        "mean_squared_error=metrics.mean_squared_error(y_test,pred)\n",
        "print('Prediction',score)\n",
        "print('mean squared error(MSE)', round(np.sqrt(mean_squared_error),2))\n",
        "# print('Root mean squared error(RMSE)', round(np.sqrt(mean_squared_error(,pred)),2))\n",
        "print('R squared training',reg.score(train_data[features1],train_data['harga']))\n",
        "print('R squared testing', reg.score(test_data[features1],test_data['harga']))\n",
        "print('Intercept: ', reg.intercept_)\n",
        "print('Coefficient:', reg.coef_)\n",
        "print('Coefficient of determination: %.2f'\n",
        "      % r2_score(y_test, pred))"
      ],
      "execution_count": null,
      "outputs": [
        {
          "output_type": "stream",
          "text": [
            "Prediction 0.5945467382080698\n",
            "mean squared error(MSE) 812005.33\n",
            "R squared training 0.5247054646387448\n",
            "R squared testing 0.5945467382080698\n",
            "Intercept:  -199117.44825754483\n",
            "Coefficient: [  2021.14901016   1220.03406835 161019.84983447  38752.52570279\n",
            "  78180.65344421]\n",
            "Coefficient of determination: 0.59\n"
          ],
          "name": "stdout"
        }
      ]
    }
  ]
}